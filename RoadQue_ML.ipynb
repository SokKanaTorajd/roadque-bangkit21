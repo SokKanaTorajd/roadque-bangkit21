{
  "nbformat": 4,
  "nbformat_minor": 0,
  "metadata": {
    "colab": {
      "name": "RoadQue-ML.ipynb",
      "provenance": [],
      "collapsed_sections": [],
      "authorship_tag": "ABX9TyMww8YQ4BfKiizc4XptvrnI",
      "include_colab_link": true
    },
    "kernelspec": {
      "name": "python3",
      "display_name": "Python 3"
    },
    "language_info": {
      "name": "python"
    }
  },
  "cells": [
    {
      "cell_type": "markdown",
      "metadata": {
        "id": "view-in-github",
        "colab_type": "text"
      },
      "source": [
        "<a href=\"https://colab.research.google.com/github/SokKanaTorajd/roadque-bangkit21/blob/main/RoadQue_ML.ipynb\" target=\"_parent\"><img src=\"https://colab.research.google.com/assets/colab-badge.svg\" alt=\"Open In Colab\"/></a>"
      ]
    },
    {
      "cell_type": "code",
      "metadata": {
        "id": "67LkbS6ZnhLF",
        "outputId": "b8cff1a1-3c65-4e7d-98ee-1317a0cab592",
        "colab": {
          "base_uri": "https://localhost:8080/"
        }
      },
      "source": [
        "%tensorflow_version"
      ],
      "execution_count": 1,
      "outputs": [
        {
          "output_type": "stream",
          "text": [
            "Currently selected TF version: 2.x\n",
            "Available versions:\n",
            "* 1.x\n",
            "* 2.x\n"
          ],
          "name": "stdout"
        }
      ]
    },
    {
      "cell_type": "code",
      "metadata": {
        "id": "cL6jzmCXNSB6",
        "outputId": "f3e389ea-b87b-4470-dd05-7da6f28cbe13",
        "colab": {
          "base_uri": "https://localhost:8080/"
        }
      },
      "source": [
        "# use the TF v1.x\n",
        "%tensorflow_version 1.x"
      ],
      "execution_count": 4,
      "outputs": [
        {
          "output_type": "stream",
          "text": [
            "TensorFlow 1.x selected.\n"
          ],
          "name": "stdout"
        }
      ]
    },
    {
      "cell_type": "code",
      "metadata": {
        "id": "hVSewVavIV9K",
        "outputId": "89a0ccb6-7677-4f44-a639-16e6d8c915c6",
        "colab": {
          "base_uri": "https://localhost:8080/"
        }
      },
      "source": [
        "# change directory to Drive\n",
        "\n",
        "%cd \"drive/MyDrive/Docs Team B21-CAP0348\""
      ],
      "execution_count": 2,
      "outputs": [
        {
          "output_type": "stream",
          "text": [
            "/content/drive/MyDrive/Docs Team B21-CAP0348\n"
          ],
          "name": "stdout"
        }
      ]
    },
    {
      "cell_type": "code",
      "metadata": {
        "id": "gugGrhCfI416",
        "outputId": "806c3f88-1bf9-46fd-e694-4592b506b4ca",
        "colab": {
          "base_uri": "https://localhost:8080/"
        }
      },
      "source": [
        "# clone tensorflow models\n",
        "\n",
        "!git clone https://github.com/tensorflow/models.git"
      ],
      "execution_count": 3,
      "outputs": [
        {
          "output_type": "stream",
          "text": [
            "Cloning into 'models'...\n",
            "remote: Enumerating objects: 57616, done.\u001b[K\n",
            "remote: Counting objects: 100% (38/38), done.\u001b[K\n",
            "remote: Compressing objects: 100% (37/37), done.\u001b[K\n",
            "remote: Total 57616 (delta 13), reused 18 (delta 0), pack-reused 57578\u001b[K\n",
            "Receiving objects: 100% (57616/57616), 572.70 MiB | 12.69 MiB/s, done.\n",
            "Resolving deltas: 100% (39956/39956), done.\n",
            "Checking out files: 100% (2471/2471), done.\n"
          ],
          "name": "stdout"
        }
      ]
    },
    {
      "cell_type": "code",
      "metadata": {
        "id": "txQyuT1II_o-"
      },
      "source": [
        "# move label_map.pbtxt to roadque/annotations\n",
        "\n",
        "!mv \"/content/drive/MyDrive/Docs Team B21-CAP0348/label_map.pbtxt\" \"/content/drive/MyDrive/Docs Team B21-CAP0348/roadque/workspaces/training-demo/annotations/\""
      ],
      "execution_count": 6,
      "outputs": []
    },
    {
      "cell_type": "code",
      "metadata": {
        "id": "T6_QGEQiYYv4",
        "outputId": "fa6fabc7-7410-4ccb-f325-70ea349395c2",
        "colab": {
          "base_uri": "https://localhost:8080/"
        }
      },
      "source": [
        "# download the pretrained model of ssd mobilenet v2 fpn\n",
        "!wget \"http://download.tensorflow.org/models/object_detection/tf2/20200711/ssd_mobilenet_v2_fpnlite_640x640_coco17_tpu-8.tar.gz\" "
      ],
      "execution_count": 9,
      "outputs": [
        {
          "output_type": "stream",
          "text": [
            "--2021-06-02 06:33:24--  http://download.tensorflow.org/models/object_detection/tf2/20200711/ssd_mobilenet_v2_fpnlite_640x640_coco17_tpu-8.tar.gz\n",
            "Resolving download.tensorflow.org (download.tensorflow.org)... 74.125.23.128, 2404:6800:4008:c02::80\n",
            "Connecting to download.tensorflow.org (download.tensorflow.org)|74.125.23.128|:80... connected.\n",
            "HTTP request sent, awaiting response... 200 OK\n",
            "Length: 20518283 (20M) [application/x-tar]\n",
            "Saving to: ‘ssd_mobilenet_v2_fpnlite_640x640_coco17_tpu-8.tar.gz’\n",
            "\n",
            "ssd_mobilenet_v2_fp 100%[===================>]  19.57M  44.2MB/s    in 0.4s    \n",
            "\n",
            "2021-06-02 06:33:25 (44.2 MB/s) - ‘ssd_mobilenet_v2_fpnlite_640x640_coco17_tpu-8.tar.gz’ saved [20518283/20518283]\n",
            "\n"
          ],
          "name": "stdout"
        }
      ]
    },
    {
      "cell_type": "code",
      "metadata": {
        "id": "FS_n_29nbTnb",
        "outputId": "bee72bb2-80ad-4f8f-de61-bb24a2ee3054",
        "colab": {
          "base_uri": "https://localhost:8080/"
        }
      },
      "source": [
        "# extract the pretrained model\n",
        "!tar -xvf ssd_mobilenet_v2_fpnlite_640x640_coco17_tpu-8.tar.gz"
      ],
      "execution_count": 10,
      "outputs": [
        {
          "output_type": "stream",
          "text": [
            "ssd_mobilenet_v2_fpnlite_640x640_coco17_tpu-8/\n",
            "ssd_mobilenet_v2_fpnlite_640x640_coco17_tpu-8/checkpoint/\n",
            "ssd_mobilenet_v2_fpnlite_640x640_coco17_tpu-8/checkpoint/ckpt-0.data-00000-of-00001\n",
            "ssd_mobilenet_v2_fpnlite_640x640_coco17_tpu-8/checkpoint/checkpoint\n",
            "ssd_mobilenet_v2_fpnlite_640x640_coco17_tpu-8/checkpoint/ckpt-0.index\n",
            "ssd_mobilenet_v2_fpnlite_640x640_coco17_tpu-8/pipeline.config\n",
            "ssd_mobilenet_v2_fpnlite_640x640_coco17_tpu-8/saved_model/\n",
            "ssd_mobilenet_v2_fpnlite_640x640_coco17_tpu-8/saved_model/saved_model.pb\n",
            "ssd_mobilenet_v2_fpnlite_640x640_coco17_tpu-8/saved_model/variables/\n",
            "ssd_mobilenet_v2_fpnlite_640x640_coco17_tpu-8/saved_model/variables/variables.data-00000-of-00001\n",
            "ssd_mobilenet_v2_fpnlite_640x640_coco17_tpu-8/saved_model/variables/variables.index\n"
          ],
          "name": "stdout"
        }
      ]
    },
    {
      "cell_type": "code",
      "metadata": {
        "id": "87zBWs6Hbq4n"
      },
      "source": [
        "# move pre-trained-model v2 fpn folder from root to drive\n",
        "!mv \"/root/ssd_mobilenet_v2_fpnlite_640x640_coco17_tpu-8\" \"/content/drive/MyDrive/Docs Team B21-CAP0348/roadque/workspaces/training-demo/pre-trained-models\""
      ],
      "execution_count": 11,
      "outputs": []
    },
    {
      "cell_type": "code",
      "metadata": {
        "id": "iuzPcGLZcQzL"
      },
      "source": [
        "# move the pipeline.config\n",
        "!mv \"/content/drive/MyDrive/Docs Team B21-CAP0348/roadque/workspaces/training-demo/pre-trained-models/ssd_mobilenet_v2_fpnlite_640x640_coco17_tpu-8/pipeline.config\" \"/content/drive/MyDrive/Docs Team B21-CAP0348/roadque/workspaces/training-demo/models/roadque-ssd-mobile-net-v2-fpn/\""
      ],
      "execution_count": 14,
      "outputs": []
    },
    {
      "cell_type": "code",
      "metadata": {
        "id": "Z7Y4UAA-eMEd",
        "outputId": "07fa830b-2f00-4851-cc6b-78e032f9f788",
        "colab": {
          "base_uri": "https://localhost:8080/"
        }
      },
      "source": [
        "# download the image test datasets\n",
        "\n",
        "#first test set\n",
        "# !wget \"https://data.mendeley.com/public-files/datasets/5ty2wb6gvg/files/c7c98ce8-f5df-4fd6-8249-8c327a7228ce/file_downloaded\" -O \"test1.tar.gz\"\n",
        "!wget \"https://mycityreport.s3-ap-northeast-1.amazonaws.com/02_RoadDamageDataset/public_data/IEEE_bigdata_RDD2020/test1.tar.gz\" -O \"test1.tar.gz\""
      ],
      "execution_count": 22,
      "outputs": [
        {
          "output_type": "stream",
          "text": [
            "--2021-06-02 06:58:12--  https://mycityreport.s3-ap-northeast-1.amazonaws.com/02_RoadDamageDataset/public_data/IEEE_bigdata_RDD2020/test1.tar.gz\n",
            "Resolving mycityreport.s3-ap-northeast-1.amazonaws.com (mycityreport.s3-ap-northeast-1.amazonaws.com)... 52.219.4.19\n",
            "Connecting to mycityreport.s3-ap-northeast-1.amazonaws.com (mycityreport.s3-ap-northeast-1.amazonaws.com)|52.219.4.19|:443... connected.\n",
            "HTTP request sent, awaiting response... 200 OK\n",
            "Length: 186476694 (178M) [application/x-tar]\n",
            "Saving to: ‘test1.tar.gz’\n",
            "\n",
            "test1.tar.gz        100%[===================>] 177.84M  43.7MB/s    in 4.2s    \n",
            "\n",
            "2021-06-02 06:58:16 (42.8 MB/s) - ‘test1.tar.gz’ saved [186476694/186476694]\n",
            "\n"
          ],
          "name": "stdout"
        }
      ]
    },
    {
      "cell_type": "code",
      "metadata": {
        "id": "PtxNgJJ1cnBo",
        "outputId": "ebc8b7b4-220f-4c91-f249-acac48d2531c",
        "colab": {
          "base_uri": "https://localhost:8080/"
        }
      },
      "source": [
        "#second test set\n",
        "# !wget \"https://data.mendeley.com/public-files/datasets/5ty2wb6gvg/files/cd7f2818-803d-471b-8a44-4c9aec6bd6ef/file_downloaded\" -O \"test2.tar.gz\"\n",
        "!wget \"https://mycityreport.s3-ap-northeast-1.amazonaws.com/02_RoadDamageDataset/public_data/IEEE_bigdata_RDD2020/test2.tar.gz\" -O \"test2.tar.gz\""
      ],
      "execution_count": 24,
      "outputs": [
        {
          "output_type": "stream",
          "text": [
            "--2021-06-02 07:00:24--  https://mycityreport.s3-ap-northeast-1.amazonaws.com/02_RoadDamageDataset/public_data/IEEE_bigdata_RDD2020/test2.tar.gz\n",
            "Resolving mycityreport.s3-ap-northeast-1.amazonaws.com (mycityreport.s3-ap-northeast-1.amazonaws.com)... 52.219.17.14\n",
            "Connecting to mycityreport.s3-ap-northeast-1.amazonaws.com (mycityreport.s3-ap-northeast-1.amazonaws.com)|52.219.17.14|:443... connected.\n",
            "HTTP request sent, awaiting response... 200 OK\n",
            "Length: 188699247 (180M) [application/x-tar]\n",
            "Saving to: ‘test2.tar.gz’\n",
            "\n",
            "test2.tar.gz        100%[===================>] 179.96M  34.4MB/s    in 5.5s    \n",
            "\n",
            "2021-06-02 07:00:30 (32.9 MB/s) - ‘test2.tar.gz’ saved [188699247/188699247]\n",
            "\n"
          ],
          "name": "stdout"
        }
      ]
    },
    {
      "cell_type": "code",
      "metadata": {
        "id": "pYho_JyFfM4c"
      },
      "source": [
        "!tar -xvf test1.tar.gz"
      ],
      "execution_count": null,
      "outputs": []
    },
    {
      "cell_type": "code",
      "metadata": {
        "id": "JZ7vrQdmfay8"
      },
      "source": [
        "!tar -xvf test2.tar.gz"
      ],
      "execution_count": null,
      "outputs": []
    },
    {
      "cell_type": "code",
      "metadata": {
        "id": "lLs4QNW0hl8V",
        "outputId": "47dffd03-53c4-4a33-ac19-5420129061c5",
        "colab": {
          "base_uri": "https://localhost:8080/"
        }
      },
      "source": [
        "import os\n",
        "\n",
        "print(len(os.listdir('/root/test1/Czech/images')))\n",
        "print(len(os.listdir('/root/test1/India/images')))\n",
        "print(len(os.listdir('/root/test1/Japan/images')))\n",
        "print(len(os.listdir('/root/test2/Czech/images')))\n",
        "print(len(os.listdir('/root/test2/India/images')))\n",
        "print(len(os.listdir('/root/test2/Japan/images')))"
      ],
      "execution_count": 26,
      "outputs": [
        {
          "output_type": "stream",
          "text": [
            "349\n",
            "969\n",
            "1313\n",
            "360\n",
            "990\n",
            "1314\n"
          ],
          "name": "stdout"
        }
      ]
    },
    {
      "cell_type": "code",
      "metadata": {
        "id": "uXfg91sTkxq8"
      },
      "source": [
        "def list_filenames(folder):\n",
        "  folders = os.listdir(folder)\n",
        "  filenames= []\n",
        "  for name in folders:\n",
        "      image_base = folder+\"/\"+name+\"/images\"\n",
        "      for img in os.listdir(image_base):\n",
        "        filenames.append(image_base+\"/\"+img)\n",
        "  \n",
        "  return filenames"
      ],
      "execution_count": 42,
      "outputs": []
    },
    {
      "cell_type": "code",
      "metadata": {
        "id": "B2OOmzgolzBb"
      },
      "source": [
        "test1_files = list_filenames('/root/test1')\n",
        "test2_files = list_filenames('/root/test2')"
      ],
      "execution_count": 43,
      "outputs": []
    },
    {
      "cell_type": "code",
      "metadata": {
        "id": "u8EGWZrgkrqO",
        "outputId": "58b5f323-61e3-4b0b-fd88-683f7f66d74c",
        "colab": {
          "base_uri": "https://localhost:8080/"
        }
      },
      "source": [
        "print(len(test1_files))\n",
        "print(len(test2_files))"
      ],
      "execution_count": 44,
      "outputs": [
        {
          "output_type": "stream",
          "text": [
            "2631\n",
            "2664\n"
          ],
          "name": "stdout"
        }
      ]
    },
    {
      "cell_type": "code",
      "metadata": {
        "id": "VAK079e3l20S",
        "outputId": "c9696d89-807b-446c-aed7-ea59451374d7",
        "colab": {
          "base_uri": "https://localhost:8080/"
        }
      },
      "source": [
        "test1_files[1:10]"
      ],
      "execution_count": 45,
      "outputs": [
        {
          "output_type": "execute_result",
          "data": {
            "text/plain": [
              "['/root/test1/India/images/India_002382.jpg',\n",
              " '/root/test1/India/images/India_005867.jpg',\n",
              " '/root/test1/India/images/India_007186.jpg',\n",
              " '/root/test1/India/images/India_002277.jpg',\n",
              " '/root/test1/India/images/India_009106.jpg',\n",
              " '/root/test1/India/images/India_003026.jpg',\n",
              " '/root/test1/India/images/India_000886.jpg',\n",
              " '/root/test1/India/images/India_004145.jpg',\n",
              " '/root/test1/India/images/India_009091.jpg']"
            ]
          },
          "metadata": {
            "tags": []
          },
          "execution_count": 45
        }
      ]
    },
    {
      "cell_type": "code",
      "metadata": {
        "id": "NnukmSTEnTKy",
        "outputId": "04901f3c-82f6-499f-965b-a67356945d0a",
        "colab": {
          "base_uri": "https://localhost:8080/"
        }
      },
      "source": [
        "test2_files[1:10]"
      ],
      "execution_count": 46,
      "outputs": [
        {
          "output_type": "execute_result",
          "data": {
            "text/plain": [
              "['/root/test2/India/images/India_002423.jpg',\n",
              " '/root/test2/India/images/India_004111.jpg',\n",
              " '/root/test2/India/images/India_004418.jpg',\n",
              " '/root/test2/India/images/India_001523.jpg',\n",
              " '/root/test2/India/images/India_007223.jpg',\n",
              " '/root/test2/India/images/India_009631.jpg',\n",
              " '/root/test2/India/images/India_001039.jpg',\n",
              " '/root/test2/India/images/India_004049.jpg',\n",
              " '/root/test2/India/images/India_000767.jpg']"
            ]
          },
          "metadata": {
            "tags": []
          },
          "execution_count": 46
        }
      ]
    },
    {
      "cell_type": "code",
      "metadata": {
        "id": "EksWTaiJpLaU"
      },
      "source": [
        "def get_filename(data):\n",
        "  filename = data.split('/')[-1]\n",
        "  return filename"
      ],
      "execution_count": 48,
      "outputs": []
    },
    {
      "cell_type": "code",
      "metadata": {
        "id": "PD5nc7I8p5nY"
      },
      "source": [
        "def copy_file(src_dir, dst_dir):\n",
        "  for my_file in src_dir:\n",
        "    filename = get_filename(my_file)\n",
        "    shutil.copyfile(my_file, dst_dir+filename)"
      ],
      "execution_count": 50,
      "outputs": []
    },
    {
      "cell_type": "code",
      "metadata": {
        "id": "TT8Bc3mmp_fM"
      },
      "source": [
        "# create folders test and validation for test1 and test2 respectively\n",
        "TEST = 'data-test'\n",
        "VALIDATION = 'data-validation'\n",
        "\n",
        "os.makedirs(TEST)\n",
        "os.makedirs(VALIDATION)"
      ],
      "execution_count": 51,
      "outputs": []
    },
    {
      "cell_type": "code",
      "metadata": {
        "id": "vCVVycLeqzII"
      },
      "source": [
        "import shutil"
      ],
      "execution_count": 53,
      "outputs": []
    },
    {
      "cell_type": "code",
      "metadata": {
        "id": "4MP48i2orpsm"
      },
      "source": [
        "copy_file(test1_files, TEST+'/')\n",
        "copy_file(test2_files, VALIDATION+'/')"
      ],
      "execution_count": 55,
      "outputs": []
    },
    {
      "cell_type": "code",
      "metadata": {
        "id": "j4O_gc9wryTq",
        "outputId": "7740bb8f-f226-4b67-bec6-7ce160a2ce30",
        "colab": {
          "base_uri": "https://localhost:8080/"
        }
      },
      "source": [
        "print(len(os.listdir(TEST)))\n",
        "print(len(os.listdir(VALIDATION)))"
      ],
      "execution_count": 56,
      "outputs": [
        {
          "output_type": "stream",
          "text": [
            "2631\n",
            "2664\n"
          ],
          "name": "stdout"
        }
      ]
    },
    {
      "cell_type": "code",
      "metadata": {
        "id": "XAjx2fItsf3s"
      },
      "source": [
        "import tarfile"
      ],
      "execution_count": 57,
      "outputs": []
    },
    {
      "cell_type": "code",
      "metadata": {
        "id": "lZInBPKQsxXG"
      },
      "source": [
        "def compress_to_tarfile(folder):\n",
        "  with tarfile.open(folder+'.tar.gz', \"w:gz\") as tar:\n",
        "    tar.add(folder, arcname=os.path.basename(folder))"
      ],
      "execution_count": 60,
      "outputs": []
    },
    {
      "cell_type": "code",
      "metadata": {
        "id": "5OKOFxCktbId"
      },
      "source": [
        "compress_to_tarfile(TEST)\n",
        "compress_to_tarfile(VALIDATION)"
      ],
      "execution_count": 61,
      "outputs": []
    },
    {
      "cell_type": "code",
      "metadata": {
        "id": "71hSor-ut1lF"
      },
      "source": [
        "# copy to google drive\n",
        "!cp -r \"/root/data-test.tar.gz\" \"/content/drive/MyDrive/Docs Team B21-CAP0348/\"\n",
        "!cp -r \"/root/data-validation.tar.gz\" \"/content/drive/MyDrive/Docs Team B21-CAP0348/\""
      ],
      "execution_count": 62,
      "outputs": []
    },
    {
      "cell_type": "code",
      "metadata": {
        "id": "eUTXUUEUuSrZ"
      },
      "source": [
        ""
      ],
      "execution_count": null,
      "outputs": []
    }
  ]
}